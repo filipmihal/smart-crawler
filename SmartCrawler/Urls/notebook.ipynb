{
 "cells": [
  {
   "cell_type": "markdown",
   "source": "### Already scraped\nhttps://www.indeed.com/career-advice/career-development/medium-and-small-enterprises\n- marketing agencies in london\n- printing companies in Los Angeles\n\n- [ ] add bigger companies (mostly IT)\n- [ ]  add restaurants\n",
   "metadata": {
    "cell_id": "941876bea7674f45842c5140a41df436",
    "tags": [],
    "deepnote_cell_type": "markdown",
    "deepnote_cell_height": 271.734375
   }
  },
  {
   "cell_type": "code",
   "metadata": {
    "cell_id": "406b6097d79c4206a90f569e144456cb",
    "tags": [],
    "deepnote_to_be_reexecuted": false,
    "source_hash": "3f25662b",
    "execution_start": 1650730318487,
    "execution_millis": 0,
    "deepnote_cell_type": "code",
    "deepnote_cell_height": 315
   },
   "source": "import os\nimport urllib.parse\nimport urllib.request, json \n\nimport pandas as pd\nfrom io import StringIO\n\nKEY = os.environ[\"API_KEY\"]\nCITIES = [\"New York\", \"Los Angeles\", \"London\", \"San Francisco\", \"Berlin\", \"Toronto\"]\n# BUSINESSES = [\"law firms\", \"construction companies\", \"marketing agencies\", \n#             \"delivery services\", \"Newspaper publishers\", \"Pension funds\", \"car rentals\", \" Investigation services\", \n#             \"Computer training\", \"Nursing care facility\", \"Sports team\", \"catering company\", \"house rentals\"]\nBUSINESSES = [\"restaurants\", \"department\"]\nDEPTHS = 2",
   "execution_count": null,
   "outputs": []
  },
  {
   "cell_type": "code",
   "metadata": {
    "cell_id": "6b55d6416107425fb78da09c09c43ad6",
    "tags": [],
    "deepnote_to_be_reexecuted": false,
    "source_hash": "f30727dc",
    "execution_start": 1650730322265,
    "execution_millis": 4,
    "deepnote_cell_type": "code",
    "deepnote_cell_height": 81,
    "deepnote_output_heights": [
     611
    ]
   },
   "source": "WEBSITE_QUERIES = construct_business_queries()",
   "execution_count": null,
   "outputs": []
  },
  {
   "cell_type": "code",
   "metadata": {
    "cell_id": "c6ca59d91372449aa619d455aebabc9a",
    "tags": [],
    "deepnote_to_be_reexecuted": false,
    "source_hash": "11d55d9a",
    "execution_start": 1650478774682,
    "execution_millis": 936,
    "deepnote_cell_type": "code",
    "deepnote_cell_height": 189
   },
   "source": "# for website in WEBSITE_TYPES:\n#     converted_web = urllib.parse.quote(website)\n#     text_url = f\"https://maps.googleapis.com/maps/api/place/textsearch/json?query={converted_web}&key={KEY}\"\n#     with urllib.request.urlopen(text_url) as url:\n#         data = json.loads(url.read().decode())\n        \n        ",
   "execution_count": null,
   "outputs": []
  },
  {
   "cell_type": "code",
   "metadata": {
    "cell_id": "08d8fe10fa0e4a3fb3e7183cfb0af49b",
    "tags": [],
    "deepnote_to_be_reexecuted": false,
    "source_hash": "1e46c344",
    "execution_start": 1650727655885,
    "execution_millis": 6,
    "deepnote_cell_type": "code",
    "deepnote_cell_height": 171
   },
   "source": "def get_place_data(place_id):\n    place_url = f\"https://maps.googleapis.com/maps/api/place/details/json?fields=name%2Cwebsite&place_id={place_id}&key={KEY}\"\n    with urllib.request.urlopen(place_url) as p_url:\n        place_data = json.loads(p_url.read().decode())\n        return place_data\n",
   "execution_count": null,
   "outputs": []
  },
  {
   "cell_type": "code",
   "metadata": {
    "cell_id": "e6b6100aa6064848abc0f2c6a3d2b760",
    "tags": [],
    "deepnote_to_be_reexecuted": false,
    "source_hash": "9510a3c1",
    "execution_start": 1650727656500,
    "execution_millis": 0,
    "deepnote_cell_type": "code",
    "deepnote_cell_height": 135
   },
   "source": "def append_places(results, data):\n    for result in data[\"results\"]:\n        place_id = result['place_id']\n        results.append(get_place_data(place_id))",
   "execution_count": null,
   "outputs": []
  },
  {
   "cell_type": "code",
   "metadata": {
    "cell_id": "cd9515a18cde44d895ddca0214cc9ad8",
    "tags": [],
    "deepnote_to_be_reexecuted": false,
    "source_hash": "d577409e",
    "execution_start": 1650727658086,
    "execution_millis": 2,
    "deepnote_cell_type": "code",
    "deepnote_cell_height": 225
   },
   "source": "def construct_business_queries():\n    queries = []\n    for business in BUSINESSES:\n        for city in CITIES:\n            query = business + \" in \" + city\n            queries.append(query)\n    \n    return queries\n",
   "execution_count": null,
   "outputs": []
  },
  {
   "cell_type": "code",
   "metadata": {
    "cell_id": "1eac06f8e9a84fc689097625d7c7a82f",
    "tags": [],
    "deepnote_to_be_reexecuted": false,
    "source_hash": "4c16cd4f",
    "execution_start": 1650730352300,
    "execution_millis": 52752,
    "deepnote_cell_type": "code",
    "deepnote_cell_height": 748.25
   },
   "source": "# final_data = []\nfor website in WEBSITE_QUERIES:\n    data = []\n    results = []\n    converted_web = urllib.parse.quote(website)\n    text_url = f\"https://maps.googleapis.com/maps/api/place/textsearch/json?query={converted_web}&key={KEY}\"\n    with urllib.request.urlopen(text_url) as url:\n        data = json.loads(url.read().decode())\n        append_places(results, data)\n    \n    for i in range(DEPTHS):\n        next_url = f\"https://maps.googleapis.com/maps/api/place/textsearch/json?pagetoken={data.get('next_page_token')}&key={KEY}\"\n        with urllib.request.urlopen(text_url) as url:\n            data = json.loads(url.read().decode())\n            append_places(results, data)\n\n    new_results = list(map(lambda n: {\"website\": n[\"result\"].get(\"website\"), \"name\": n[\"result\"].get(\"name\")}, results))\n    print(len(new_results))\n    final_data = final_data + new_results\n    jsonik = pd.read_json(StringIO(json.dumps(new_results)))\n    jsonik.to_csv(\"urls2/\"+website+\".csv\")\n\n        \n   ",
   "execution_count": null,
   "outputs": [
    {
     "name": "stdout",
     "text": "60\n60\n60\n60\n60\n60\n60\n60\n60\n60\n60\n6\n",
     "output_type": "stream"
    }
   ]
  },
  {
   "cell_type": "code",
   "metadata": {
    "cell_id": "15c80c17cc27440d8c96fa2223636e61",
    "tags": [],
    "deepnote_to_be_reexecuted": false,
    "source_hash": "23342aa0",
    "execution_start": 1650481037560,
    "execution_millis": 1,
    "deepnote_cell_type": "code",
    "deepnote_cell_height": 118.1875,
    "deepnote_output_heights": [
     21.1875
    ]
   },
   "source": "len(results)",
   "execution_count": null,
   "outputs": [
    {
     "output_type": "execute_result",
     "execution_count": 46,
     "data": {
      "text/plain": "40"
     },
     "metadata": {}
    }
   ]
  },
  {
   "cell_type": "code",
   "metadata": {
    "cell_id": "808ab3894a3946a19cdc908efd78e9a0",
    "tags": [],
    "deepnote_to_be_reexecuted": false,
    "source_hash": "5828fb8d",
    "execution_start": 1650730444548,
    "execution_millis": 2,
    "deepnote_cell_type": "code",
    "deepnote_cell_height": 118.1875,
    "deepnote_output_heights": [
     21.1875
    ]
   },
   "source": "len(final_data)",
   "execution_count": null,
   "outputs": [
    {
     "output_type": "execute_result",
     "execution_count": 31,
     "data": {
      "text/plain": "5271"
     },
     "metadata": {}
    }
   ]
  },
  {
   "cell_type": "code",
   "metadata": {
    "cell_id": "799b0cc9ed21457ba1180b15e9d1b4a1",
    "tags": [],
    "deepnote_to_be_reexecuted": false,
    "source_hash": "e04d4791",
    "execution_start": 1650730334845,
    "execution_millis": 8,
    "deepnote_cell_type": "code",
    "deepnote_cell_height": 329.25,
    "deepnote_output_heights": [
     232.25
    ]
   },
   "source": "WEBSITE_QUERIES",
   "execution_count": null,
   "outputs": [
    {
     "output_type": "execute_result",
     "execution_count": 29,
     "data": {
      "text/plain": "['restaurants in New York',\n 'restaurants in Los Angeles',\n 'restaurants in London',\n 'restaurants in San Francisco',\n 'restaurants in Berlin',\n 'restaurants in Toronto',\n 'department in New York',\n 'department in Los Angeles',\n 'department in London',\n 'department in San Francisco',\n 'department in Berlin',\n 'department in Toronto']"
     },
     "metadata": {}
    }
   ]
  },
  {
   "cell_type": "code",
   "metadata": {
    "cell_id": "7400a2d23db5477cb12ed2e20b704a2e",
    "tags": [],
    "deepnote_to_be_reexecuted": false,
    "source_hash": "f9e19705",
    "execution_start": 1650730447245,
    "execution_millis": 25,
    "owner_user_id": "9ad0cfae-2a70-4121-9d9b-93f91a597c85",
    "deepnote_cell_type": "code",
    "deepnote_cell_height": 99
   },
   "source": "final_json = pd.read_json(StringIO(json.dumps(final_data)))\nfinal_json.to_csv(\"urls2/URLS.csv\")",
   "execution_count": null,
   "outputs": []
  },
  {
   "cell_type": "code",
   "metadata": {
    "cell_id": "659845fa8fd84b2ca95d0f437bc07d09",
    "tags": [],
    "deepnote_to_be_reexecuted": false,
    "source_hash": "7ebb4154",
    "execution_start": 1650479052293,
    "execution_millis": 5805,
    "deepnote_cell_type": "code",
    "deepnote_cell_height": 278.3125
   },
   "source": "!pip install fsspec",
   "execution_count": null,
   "outputs": [
    {
     "name": "stdout",
     "text": "Collecting fsspec\n  Downloading fsspec-2022.3.0-py3-none-any.whl (136 kB)\n\u001b[K     |████████████████████████████████| 136 kB 22.5 MB/s \n\u001b[?25hInstalling collected packages: fsspec\nSuccessfully installed fsspec-2022.3.0\n\u001b[33mWARNING: You are using pip version 20.1.1; however, version 22.0.4 is available.\nYou should consider upgrading via the '/root/venv/bin/python -m pip install --upgrade pip' command.\u001b[0m\n",
     "output_type": "stream"
    }
   ]
  },
  {
   "cell_type": "markdown",
   "source": "<a style='text-decoration:none;line-height:16px;display:flex;color:#5B5B62;padding:10px;justify-content:end;' href='https://deepnote.com?utm_source=created-in-deepnote-cell&projectId=d95e616e-5351-43d3-a7f5-6b72e11ce7ce' target=\"_blank\">\n<img alt='Created in deepnote.com' style='display:inline;max-height:16px;margin:0px;margin-right:7.5px;' src='data:image/svg+xml;base64,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' > </img>\nCreated in <span style='font-weight:600;margin-left:4px;'>Deepnote</span></a>",
   "metadata": {
    "tags": [],
    "created_in_deepnote_cell": true,
    "deepnote_cell_type": "markdown"
   }
  }
 ],
 "nbformat": 4,
 "nbformat_minor": 2,
 "metadata": {
  "orig_nbformat": 2,
  "deepnote": {
   "is_reactive": false
  },
  "deepnote_notebook_id": "95851b76-b3fc-4fd9-8bb2-bec01349ca03",
  "deepnote_execution_queue": []
 }
}